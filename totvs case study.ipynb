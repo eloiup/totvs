{
 "cells": [
  {
   "cell_type": "markdown",
   "metadata": {
    "collapsed": true
   },
   "source": [
    "## TOTVS CASE STUDY\n",
    "\n",
    "Instructions:\n",
    "\n",
    "1. Parse and extract the data.\n",
    "2. Identify a pattern on any set of fields that can help predict how much a customer will spend.\n",
    "3. Calculate a sales forecast for the next week."
   ]
  },
  {
   "cell_type": "markdown",
   "metadata": {},
   "source": [
    "### Item 1: Parse and extract the data.\n",
    "\n",
    "The data seems to be in JSON format in a .txt file. <br>\n",
    "Lets use the *json* library to read it."
   ]
  },
  {
   "cell_type": "code",
   "execution_count": 1,
   "metadata": {},
   "outputs": [
    {
     "name": "stderr",
     "output_type": "stream",
     "text": [
      "/home/ubuntu/anaconda2/envs/totvs/lib/python2.7/site-packages/sklearn/cross_validation.py:41: DeprecationWarning: This module was deprecated in version 0.18 in favor of the model_selection module into which all the refactored classes and functions are moved. Also note that the interface of the new CV iterators are different from that of this module. This module will be removed in 0.20.\n",
      "  \"This module will be removed in 0.20.\", DeprecationWarning)\n",
      "/home/ubuntu/anaconda2/envs/totvs/lib/python2.7/site-packages/sklearn/grid_search.py:42: DeprecationWarning: This module was deprecated in version 0.18 in favor of the model_selection module into which all the refactored classes and functions are moved. This module will be removed in 0.20.\n",
      "  DeprecationWarning)\n",
      "/home/ubuntu/anaconda2/envs/totvs/lib/python2.7/site-packages/sklearn/learning_curve.py:22: DeprecationWarning: This module was deprecated in version 0.18 in favor of the model_selection module into which all the functions are moved. This module will be removed in 0.20\n",
      "  DeprecationWarning)\n",
      "UsageError: unrecognized arguments: # graphics in noteboook\n"
     ]
    }
   ],
   "source": [
    "import json # json library\n",
    "from pandas.io.json import json_normalize # json normalization module\n",
    "\n",
    "import pandas as pd, numpy as np # data processing, linear alg libraries\n",
    "import matplotlib.pyplot as plt, seaborn as sns # graph libraries\n",
    "\n",
    "import lightgbm as lgb ## benchmark library for SGD (bit worse than xgboost in results, but about 10 times faster)\n",
    "from sklearn import * ## pretty much everything related to models.\n",
    "\n",
    "%matplotlib inline # graphics in noteboook\n",
    "\n",
    "pd.options.display.max_columns = 99 # setting matrix columns max display value"
   ]
  },
  {
   "cell_type": "code",
   "execution_count": 2,
   "metadata": {
    "collapsed": true
   },
   "outputs": [],
   "source": [
    "with open('sample.txt') as json_data:\n",
    "    \n",
    "    data = json.load(json_data)"
   ]
  },
  {
   "cell_type": "code",
   "execution_count": 3,
   "metadata": {},
   "outputs": [
    {
     "name": "stdout",
     "output_type": "stream",
     "text": [
      "(1635, 31)\n"
     ]
    }
   ],
   "source": [
    "parsed_json = json_normalize(data)\n",
    "\n",
    "print (parsed_json.shape)"
   ]
  },
  {
   "cell_type": "code",
   "execution_count": 4,
   "metadata": {},
   "outputs": [
    {
     "data": {
      "text/plain": [
       "Index([u'complemento.valorTotal', u'dets', u'emit.cnpj',\n",
       "       u'emit.enderEmit.fone', u'emit.enderEmit.uf', u'emit.enderEmit.xBairro',\n",
       "       u'emit.enderEmit.xLgr', u'emit.enderEmit.xMun', u'emit.enderEmit.xPais',\n",
       "       u'emit.xFant', u'ide.dhEmi.$date', u'ide.natOp', u'infAdic.infCpl',\n",
       "       u'total.icmsTot.vDesc', u'total.icmsTot.vFrete',\n",
       "       u'total.icmsTot.vOutro', u'total.icmsTot.vProd', u'total.icmsTot.vSeg',\n",
       "       u'total.icmsTot.vTotTrib', u'total.icmsTot.vbc', u'total.icmsTot.vbcst',\n",
       "       u'total.icmsTot.vcofins', u'total.icmsTot.vicms',\n",
       "       u'total.icmsTot.vicmsDeson', u'total.icmsTot.vii',\n",
       "       u'total.icmsTot.vipi', u'total.icmsTot.vnf', u'total.icmsTot.vpis',\n",
       "       u'total.icmsTot.vst', u'versaoDocumento',\n",
       "       u'versaoDocumento.$numberLong'],\n",
       "      dtype='object')"
      ]
     },
     "execution_count": 4,
     "metadata": {},
     "output_type": "execute_result"
    }
   ],
   "source": [
    "parsed_json.columns"
   ]
  },
  {
   "cell_type": "code",
   "execution_count": 5,
   "metadata": {},
   "outputs": [
    {
     "data": {
      "text/html": [
       "<div>\n",
       "<style>\n",
       "    .dataframe thead tr:only-child th {\n",
       "        text-align: right;\n",
       "    }\n",
       "\n",
       "    .dataframe thead th {\n",
       "        text-align: left;\n",
       "    }\n",
       "\n",
       "    .dataframe tbody tr th {\n",
       "        vertical-align: top;\n",
       "    }\n",
       "</style>\n",
       "<table border=\"1\" class=\"dataframe\">\n",
       "  <thead>\n",
       "    <tr style=\"text-align: right;\">\n",
       "      <th></th>\n",
       "      <th>complemento.valorTotal</th>\n",
       "      <th>dets</th>\n",
       "      <th>emit.cnpj</th>\n",
       "      <th>emit.enderEmit.fone</th>\n",
       "      <th>emit.enderEmit.uf</th>\n",
       "      <th>emit.enderEmit.xBairro</th>\n",
       "      <th>emit.enderEmit.xLgr</th>\n",
       "      <th>emit.enderEmit.xMun</th>\n",
       "      <th>emit.enderEmit.xPais</th>\n",
       "      <th>emit.xFant</th>\n",
       "      <th>...</th>\n",
       "      <th>total.icmsTot.vcofins</th>\n",
       "      <th>total.icmsTot.vicms</th>\n",
       "      <th>total.icmsTot.vicmsDeson</th>\n",
       "      <th>total.icmsTot.vii</th>\n",
       "      <th>total.icmsTot.vipi</th>\n",
       "      <th>total.icmsTot.vnf</th>\n",
       "      <th>total.icmsTot.vpis</th>\n",
       "      <th>total.icmsTot.vst</th>\n",
       "      <th>versaoDocumento</th>\n",
       "      <th>versaoDocumento.$numberLong</th>\n",
       "    </tr>\n",
       "  </thead>\n",
       "  <tbody>\n",
       "    <tr>\n",
       "      <th>0</th>\n",
       "      <td>24.90</td>\n",
       "      <td>[{u'prod': {u'xProd': u'AGUA', u'vProd': 3.5, ...</td>\n",
       "      <td>01.234.567/0001-89</td>\n",
       "      <td>1-650-933-4902</td>\n",
       "      <td>CA</td>\n",
       "      <td></td>\n",
       "      <td>650 Castro St. unit 210</td>\n",
       "      <td>Mountain View</td>\n",
       "      <td>United States</td>\n",
       "      <td>TOTVS Labs</td>\n",
       "      <td>...</td>\n",
       "      <td>0.0</td>\n",
       "      <td>0.0</td>\n",
       "      <td>0.0</td>\n",
       "      <td>0.0</td>\n",
       "      <td>0.0</td>\n",
       "      <td>24.90</td>\n",
       "      <td>0.0</td>\n",
       "      <td>0.0</td>\n",
       "      <td>1.0</td>\n",
       "      <td>NaN</td>\n",
       "    </tr>\n",
       "    <tr>\n",
       "      <th>1</th>\n",
       "      <td>92.53</td>\n",
       "      <td>[{u'prod': {u'xProd': u'BUFFET', u'vProd': 83....</td>\n",
       "      <td>01.234.567/0001-89</td>\n",
       "      <td>1-650-933-4902</td>\n",
       "      <td>CA</td>\n",
       "      <td></td>\n",
       "      <td>650 Castro St. unit 210</td>\n",
       "      <td>Mountain View</td>\n",
       "      <td>United States</td>\n",
       "      <td>TOTVS Labs</td>\n",
       "      <td>...</td>\n",
       "      <td>0.0</td>\n",
       "      <td>0.0</td>\n",
       "      <td>0.0</td>\n",
       "      <td>0.0</td>\n",
       "      <td>0.0</td>\n",
       "      <td>92.55</td>\n",
       "      <td>0.0</td>\n",
       "      <td>0.0</td>\n",
       "      <td>1.0</td>\n",
       "      <td>NaN</td>\n",
       "    </tr>\n",
       "    <tr>\n",
       "      <th>2</th>\n",
       "      <td>57.86</td>\n",
       "      <td>[{u'prod': {u'xProd': u'SUCO', u'vProd': 4.5, ...</td>\n",
       "      <td>01.234.567/0001-89</td>\n",
       "      <td>1-650-933-4902</td>\n",
       "      <td>CA</td>\n",
       "      <td></td>\n",
       "      <td>650 Castro St. unit 210</td>\n",
       "      <td>Mountain View</td>\n",
       "      <td>United States</td>\n",
       "      <td>TOTVS Labs</td>\n",
       "      <td>...</td>\n",
       "      <td>0.0</td>\n",
       "      <td>0.0</td>\n",
       "      <td>0.0</td>\n",
       "      <td>0.0</td>\n",
       "      <td>0.0</td>\n",
       "      <td>57.87</td>\n",
       "      <td>0.0</td>\n",
       "      <td>0.0</td>\n",
       "      <td>1.0</td>\n",
       "      <td>NaN</td>\n",
       "    </tr>\n",
       "  </tbody>\n",
       "</table>\n",
       "<p>3 rows × 31 columns</p>\n",
       "</div>"
      ],
      "text/plain": [
       "   complemento.valorTotal                                               dets  \\\n",
       "0                   24.90  [{u'prod': {u'xProd': u'AGUA', u'vProd': 3.5, ...   \n",
       "1                   92.53  [{u'prod': {u'xProd': u'BUFFET', u'vProd': 83....   \n",
       "2                   57.86  [{u'prod': {u'xProd': u'SUCO', u'vProd': 4.5, ...   \n",
       "\n",
       "            emit.cnpj emit.enderEmit.fone emit.enderEmit.uf  \\\n",
       "0  01.234.567/0001-89      1-650-933-4902                CA   \n",
       "1  01.234.567/0001-89      1-650-933-4902                CA   \n",
       "2  01.234.567/0001-89      1-650-933-4902                CA   \n",
       "\n",
       "  emit.enderEmit.xBairro      emit.enderEmit.xLgr emit.enderEmit.xMun  \\\n",
       "0                         650 Castro St. unit 210       Mountain View   \n",
       "1                         650 Castro St. unit 210       Mountain View   \n",
       "2                         650 Castro St. unit 210       Mountain View   \n",
       "\n",
       "  emit.enderEmit.xPais  emit.xFant             ...               \\\n",
       "0        United States  TOTVS Labs             ...                \n",
       "1        United States  TOTVS Labs             ...                \n",
       "2        United States  TOTVS Labs             ...                \n",
       "\n",
       "  total.icmsTot.vcofins total.icmsTot.vicms total.icmsTot.vicmsDeson  \\\n",
       "0                   0.0                 0.0                      0.0   \n",
       "1                   0.0                 0.0                      0.0   \n",
       "2                   0.0                 0.0                      0.0   \n",
       "\n",
       "   total.icmsTot.vii  total.icmsTot.vipi  total.icmsTot.vnf  \\\n",
       "0                0.0                 0.0              24.90   \n",
       "1                0.0                 0.0              92.55   \n",
       "2                0.0                 0.0              57.87   \n",
       "\n",
       "   total.icmsTot.vpis  total.icmsTot.vst  versaoDocumento  \\\n",
       "0                 0.0                0.0              1.0   \n",
       "1                 0.0                0.0              1.0   \n",
       "2                 0.0                0.0              1.0   \n",
       "\n",
       "   versaoDocumento.$numberLong  \n",
       "0                          NaN  \n",
       "1                          NaN  \n",
       "2                          NaN  \n",
       "\n",
       "[3 rows x 31 columns]"
      ]
     },
     "execution_count": 5,
     "metadata": {},
     "output_type": "execute_result"
    }
   ],
   "source": [
    "parsed_json.head(3)"
   ]
  },
  {
   "cell_type": "markdown",
   "metadata": {},
   "source": [
    "### First thoughts\n",
    "\n",
    "The JSON file seems to be a merge of different tables from a database. <br>\n",
    "Each row appears to contain the metadata of a single transaction. <br>\n",
    "The *dets* column has another JSON, which will be explored further. <br>\n",
    "Most columns seem to be in the format \"entity\".\"attribute\", but some do not follow that structure, while a few elements have a single mention to that entity. <br>\n",
    "<br>\n",
    "The dets column will be separated into another dataframe object, we will create an 'order_id' as reference key."
   ]
  },
  {
   "cell_type": "code",
   "execution_count": 6,
   "metadata": {},
   "outputs": [],
   "source": [
    "parsed_json['order_id'] = np.arange(len(parsed_json))\n",
    "\n",
    "dets = parsed_json.pop('dets')"
   ]
  },
  {
   "cell_type": "code",
   "execution_count": 7,
   "metadata": {},
   "outputs": [
    {
     "data": {
      "text/html": [
       "<div>\n",
       "<style>\n",
       "    .dataframe thead tr:only-child th {\n",
       "        text-align: right;\n",
       "    }\n",
       "\n",
       "    .dataframe thead th {\n",
       "        text-align: left;\n",
       "    }\n",
       "\n",
       "    .dataframe tbody tr th {\n",
       "        vertical-align: top;\n",
       "    }\n",
       "</style>\n",
       "<table border=\"1\" class=\"dataframe\">\n",
       "  <thead>\n",
       "    <tr style=\"text-align: right;\">\n",
       "      <th></th>\n",
       "      <th>nItem</th>\n",
       "      <th>prod.indTot</th>\n",
       "      <th>prod.qCom</th>\n",
       "      <th>prod.uCom</th>\n",
       "      <th>prod.vProd</th>\n",
       "      <th>prod.vUnCom</th>\n",
       "      <th>prod.xProd</th>\n",
       "    </tr>\n",
       "  </thead>\n",
       "  <tbody>\n",
       "    <tr>\n",
       "      <th>0</th>\n",
       "      <td>1</td>\n",
       "      <td>1</td>\n",
       "      <td>1.000</td>\n",
       "      <td>UN</td>\n",
       "      <td>3.5</td>\n",
       "      <td>3.5</td>\n",
       "      <td>AGUA</td>\n",
       "    </tr>\n",
       "    <tr>\n",
       "      <th>1</th>\n",
       "      <td>2</td>\n",
       "      <td>1</td>\n",
       "      <td>0.312</td>\n",
       "      <td>KG</td>\n",
       "      <td>21.4</td>\n",
       "      <td>68.6</td>\n",
       "      <td>BUFFET</td>\n",
       "    </tr>\n",
       "  </tbody>\n",
       "</table>\n",
       "</div>"
      ],
      "text/plain": [
       "  nItem prod.indTot  prod.qCom prod.uCom  prod.vProd  prod.vUnCom prod.xProd\n",
       "0     1           1      1.000        UN         3.5          3.5       AGUA\n",
       "1     2           1      0.312        KG        21.4         68.6     BUFFET"
      ]
     },
     "execution_count": 7,
     "metadata": {},
     "output_type": "execute_result"
    }
   ],
   "source": [
    "json_normalize(dets[0])"
   ]
  },
  {
   "cell_type": "code",
   "execution_count": 8,
   "metadata": {},
   "outputs": [],
   "source": [
    "data = []\n",
    "\n",
    "for n,row in enumerate(dets):\n",
    "    \n",
    "    for values in json_normalize(row).values:\n",
    "    \n",
    "        data.append(np.concatenate([[n], values]))\n",
    "    \n",
    "cols = np.concatenate([['order_id'],json_normalize(row).columns])\n",
    "\n",
    "data = pd.DataFrame(data, columns=cols)"
   ]
  },
  {
   "cell_type": "code",
   "execution_count": 9,
   "metadata": {},
   "outputs": [
    {
     "name": "stdout",
     "output_type": "stream",
     "text": [
      "(3547, 8)\n"
     ]
    }
   ],
   "source": [
    "print (data.shape)"
   ]
  },
  {
   "cell_type": "code",
   "execution_count": 10,
   "metadata": {},
   "outputs": [
    {
     "data": {
      "text/html": [
       "<div>\n",
       "<style>\n",
       "    .dataframe thead tr:only-child th {\n",
       "        text-align: right;\n",
       "    }\n",
       "\n",
       "    .dataframe thead th {\n",
       "        text-align: left;\n",
       "    }\n",
       "\n",
       "    .dataframe tbody tr th {\n",
       "        vertical-align: top;\n",
       "    }\n",
       "</style>\n",
       "<table border=\"1\" class=\"dataframe\">\n",
       "  <thead>\n",
       "    <tr style=\"text-align: right;\">\n",
       "      <th></th>\n",
       "      <th>order_id</th>\n",
       "      <th>nItem</th>\n",
       "      <th>prod.indTot</th>\n",
       "      <th>prod.qCom</th>\n",
       "      <th>prod.uCom</th>\n",
       "      <th>prod.vProd</th>\n",
       "      <th>prod.vUnCom</th>\n",
       "      <th>prod.xProd</th>\n",
       "    </tr>\n",
       "  </thead>\n",
       "  <tbody>\n",
       "    <tr>\n",
       "      <th>0</th>\n",
       "      <td>0</td>\n",
       "      <td>1</td>\n",
       "      <td>1</td>\n",
       "      <td>1.000</td>\n",
       "      <td>UN</td>\n",
       "      <td>3.50</td>\n",
       "      <td>3.5</td>\n",
       "      <td>AGUA</td>\n",
       "    </tr>\n",
       "    <tr>\n",
       "      <th>1</th>\n",
       "      <td>0</td>\n",
       "      <td>2</td>\n",
       "      <td>1</td>\n",
       "      <td>0.312</td>\n",
       "      <td>KG</td>\n",
       "      <td>21.40</td>\n",
       "      <td>68.6</td>\n",
       "      <td>BUFFET</td>\n",
       "    </tr>\n",
       "    <tr>\n",
       "      <th>2</th>\n",
       "      <td>1</td>\n",
       "      <td>1</td>\n",
       "      <td>1</td>\n",
       "      <td>1.218</td>\n",
       "      <td>KG</td>\n",
       "      <td>83.55</td>\n",
       "      <td>68.6</td>\n",
       "      <td>BUFFET</td>\n",
       "    </tr>\n",
       "    <tr>\n",
       "      <th>3</th>\n",
       "      <td>1</td>\n",
       "      <td>2</td>\n",
       "      <td>1</td>\n",
       "      <td>2.000</td>\n",
       "      <td>UN</td>\n",
       "      <td>9.00</td>\n",
       "      <td>4.5</td>\n",
       "      <td>REFRIGERANTE</td>\n",
       "    </tr>\n",
       "    <tr>\n",
       "      <th>4</th>\n",
       "      <td>2</td>\n",
       "      <td>1</td>\n",
       "      <td>1</td>\n",
       "      <td>1.000</td>\n",
       "      <td>UN</td>\n",
       "      <td>4.50</td>\n",
       "      <td>4.5</td>\n",
       "      <td>SUCO</td>\n",
       "    </tr>\n",
       "  </tbody>\n",
       "</table>\n",
       "</div>"
      ],
      "text/plain": [
       "   order_id nItem prod.indTot  prod.qCom prod.uCom  prod.vProd  prod.vUnCom  \\\n",
       "0         0     1           1      1.000        UN        3.50          3.5   \n",
       "1         0     2           1      0.312        KG       21.40         68.6   \n",
       "2         1     1           1      1.218        KG       83.55         68.6   \n",
       "3         1     2           1      2.000        UN        9.00          4.5   \n",
       "4         2     1           1      1.000        UN        4.50          4.5   \n",
       "\n",
       "     prod.xProd  \n",
       "0          AGUA  \n",
       "1        BUFFET  \n",
       "2        BUFFET  \n",
       "3  REFRIGERANTE  \n",
       "4          SUCO  "
      ]
     },
     "execution_count": 10,
     "metadata": {},
     "output_type": "execute_result"
    }
   ],
   "source": [
    "data.head()"
   ]
  },
  {
   "cell_type": "code",
   "execution_count": 11,
   "metadata": {},
   "outputs": [
    {
     "data": {
      "text/html": [
       "<div>\n",
       "<style>\n",
       "    .dataframe thead tr:only-child th {\n",
       "        text-align: right;\n",
       "    }\n",
       "\n",
       "    .dataframe thead th {\n",
       "        text-align: left;\n",
       "    }\n",
       "\n",
       "    .dataframe tbody tr th {\n",
       "        vertical-align: top;\n",
       "    }\n",
       "</style>\n",
       "<table border=\"1\" class=\"dataframe\">\n",
       "  <thead>\n",
       "    <tr style=\"text-align: right;\">\n",
       "      <th></th>\n",
       "      <th>order_id</th>\n",
       "      <th>nItem</th>\n",
       "      <th>prod.indTot</th>\n",
       "      <th>prod.qCom</th>\n",
       "      <th>prod.uCom</th>\n",
       "      <th>prod.vProd</th>\n",
       "      <th>prod.vUnCom</th>\n",
       "      <th>prod.xProd</th>\n",
       "    </tr>\n",
       "  </thead>\n",
       "  <tbody>\n",
       "    <tr>\n",
       "      <th>3542</th>\n",
       "      <td>1633</td>\n",
       "      <td>2</td>\n",
       "      <td>1</td>\n",
       "      <td>1.000</td>\n",
       "      <td>UN</td>\n",
       "      <td>4.95</td>\n",
       "      <td>4.95</td>\n",
       "      <td>REFRIGERANTE</td>\n",
       "    </tr>\n",
       "    <tr>\n",
       "      <th>3543</th>\n",
       "      <td>1633</td>\n",
       "      <td>3</td>\n",
       "      <td>1</td>\n",
       "      <td>1.000</td>\n",
       "      <td>UN</td>\n",
       "      <td>4.95</td>\n",
       "      <td>4.95</td>\n",
       "      <td>REFRIGERANTE</td>\n",
       "    </tr>\n",
       "    <tr>\n",
       "      <th>3544</th>\n",
       "      <td>1633</td>\n",
       "      <td>4</td>\n",
       "      <td>1</td>\n",
       "      <td>1.000</td>\n",
       "      <td>UN</td>\n",
       "      <td>4.95</td>\n",
       "      <td>4.95</td>\n",
       "      <td>REFRIGERANTE</td>\n",
       "    </tr>\n",
       "    <tr>\n",
       "      <th>3545</th>\n",
       "      <td>1634</td>\n",
       "      <td>1</td>\n",
       "      <td>1</td>\n",
       "      <td>0.406</td>\n",
       "      <td>KG</td>\n",
       "      <td>27.85</td>\n",
       "      <td>68.60</td>\n",
       "      <td>BUFFET</td>\n",
       "    </tr>\n",
       "    <tr>\n",
       "      <th>3546</th>\n",
       "      <td>1634</td>\n",
       "      <td>2</td>\n",
       "      <td>1</td>\n",
       "      <td>1.000</td>\n",
       "      <td>UN</td>\n",
       "      <td>4.95</td>\n",
       "      <td>4.95</td>\n",
       "      <td>REFRIGERANTE</td>\n",
       "    </tr>\n",
       "  </tbody>\n",
       "</table>\n",
       "</div>"
      ],
      "text/plain": [
       "      order_id nItem prod.indTot  prod.qCom prod.uCom  prod.vProd  \\\n",
       "3542      1633     2           1      1.000        UN        4.95   \n",
       "3543      1633     3           1      1.000        UN        4.95   \n",
       "3544      1633     4           1      1.000        UN        4.95   \n",
       "3545      1634     1           1      0.406        KG       27.85   \n",
       "3546      1634     2           1      1.000        UN        4.95   \n",
       "\n",
       "      prod.vUnCom    prod.xProd  \n",
       "3542         4.95  REFRIGERANTE  \n",
       "3543         4.95  REFRIGERANTE  \n",
       "3544         4.95  REFRIGERANTE  \n",
       "3545        68.60        BUFFET  \n",
       "3546         4.95  REFRIGERANTE  "
      ]
     },
     "execution_count": 11,
     "metadata": {},
     "output_type": "execute_result"
    }
   ],
   "source": [
    "data.tail()"
   ]
  },
  {
   "cell_type": "markdown",
   "metadata": {},
   "source": [
    "### 2. Identify a pattern on any set of fields that can help predict how much a customer will spend.\n",
    "\n",
    "There's alot of data in the JSON file. <br>\n",
    "Before we try to identify relevant features, or even make new features, lets discard the features that cannot be used or that dont generate any value to predict spending. <br><br>\n",
    "Naturally, we cannot use any of the values of the entity \"total\", as they refer to the spending itself."
   ]
  },
  {
   "cell_type": "code",
   "execution_count": 12,
   "metadata": {},
   "outputs": [
    {
     "data": {
      "text/html": [
       "<div>\n",
       "<style>\n",
       "    .dataframe thead tr:only-child th {\n",
       "        text-align: right;\n",
       "    }\n",
       "\n",
       "    .dataframe thead th {\n",
       "        text-align: left;\n",
       "    }\n",
       "\n",
       "    .dataframe tbody tr th {\n",
       "        vertical-align: top;\n",
       "    }\n",
       "</style>\n",
       "<table border=\"1\" class=\"dataframe\">\n",
       "  <thead>\n",
       "    <tr style=\"text-align: right;\">\n",
       "      <th></th>\n",
       "      <th>complemento.valorTotal</th>\n",
       "      <th>emit.cnpj</th>\n",
       "      <th>emit.enderEmit.fone</th>\n",
       "      <th>emit.enderEmit.uf</th>\n",
       "      <th>emit.enderEmit.xBairro</th>\n",
       "      <th>emit.enderEmit.xLgr</th>\n",
       "      <th>emit.enderEmit.xMun</th>\n",
       "      <th>emit.enderEmit.xPais</th>\n",
       "      <th>emit.xFant</th>\n",
       "      <th>ide.dhEmi.$date</th>\n",
       "      <th>ide.natOp</th>\n",
       "      <th>infAdic.infCpl</th>\n",
       "      <th>versaoDocumento</th>\n",
       "      <th>versaoDocumento.$numberLong</th>\n",
       "      <th>order_id</th>\n",
       "    </tr>\n",
       "  </thead>\n",
       "  <tbody>\n",
       "    <tr>\n",
       "      <th>0</th>\n",
       "      <td>24.90</td>\n",
       "      <td>01.234.567/0001-89</td>\n",
       "      <td>1-650-933-4902</td>\n",
       "      <td>CA</td>\n",
       "      <td></td>\n",
       "      <td>650 Castro St. unit 210</td>\n",
       "      <td>Mountain View</td>\n",
       "      <td>United States</td>\n",
       "      <td>TOTVS Labs</td>\n",
       "      <td>2016-01-05T12:01:54.000Z</td>\n",
       "      <td>VENDA</td>\n",
       "      <td>Mesa 2</td>\n",
       "      <td>1.0</td>\n",
       "      <td>NaN</td>\n",
       "      <td>0</td>\n",
       "    </tr>\n",
       "    <tr>\n",
       "      <th>1</th>\n",
       "      <td>92.53</td>\n",
       "      <td>01.234.567/0001-89</td>\n",
       "      <td>1-650-933-4902</td>\n",
       "      <td>CA</td>\n",
       "      <td></td>\n",
       "      <td>650 Castro St. unit 210</td>\n",
       "      <td>Mountain View</td>\n",
       "      <td>United States</td>\n",
       "      <td>TOTVS Labs</td>\n",
       "      <td>2016-01-05T12:03:52.000Z</td>\n",
       "      <td>VENDA</td>\n",
       "      <td>Mesa 1</td>\n",
       "      <td>1.0</td>\n",
       "      <td>NaN</td>\n",
       "      <td>1</td>\n",
       "    </tr>\n",
       "    <tr>\n",
       "      <th>2</th>\n",
       "      <td>57.86</td>\n",
       "      <td>01.234.567/0001-89</td>\n",
       "      <td>1-650-933-4902</td>\n",
       "      <td>CA</td>\n",
       "      <td></td>\n",
       "      <td>650 Castro St. unit 210</td>\n",
       "      <td>Mountain View</td>\n",
       "      <td>United States</td>\n",
       "      <td>TOTVS Labs</td>\n",
       "      <td>2016-01-05T12:16:40.000Z</td>\n",
       "      <td>VENDA</td>\n",
       "      <td>Mesa 5</td>\n",
       "      <td>1.0</td>\n",
       "      <td>NaN</td>\n",
       "      <td>2</td>\n",
       "    </tr>\n",
       "    <tr>\n",
       "      <th>3</th>\n",
       "      <td>34.97</td>\n",
       "      <td>01.234.567/0001-89</td>\n",
       "      <td>1-650-933-4902</td>\n",
       "      <td>CA</td>\n",
       "      <td></td>\n",
       "      <td>650 Castro St. unit 210</td>\n",
       "      <td>Mountain View</td>\n",
       "      <td>United States</td>\n",
       "      <td>TOTVS Labs</td>\n",
       "      <td>2016-01-05T12:17:50.000Z</td>\n",
       "      <td>VENDA</td>\n",
       "      <td>Mesa 3</td>\n",
       "      <td>1.0</td>\n",
       "      <td>NaN</td>\n",
       "      <td>3</td>\n",
       "    </tr>\n",
       "    <tr>\n",
       "      <th>4</th>\n",
       "      <td>46.23</td>\n",
       "      <td>01.234.567/0001-89</td>\n",
       "      <td>1-650-933-4902</td>\n",
       "      <td>CA</td>\n",
       "      <td></td>\n",
       "      <td>650 Castro St. unit 210</td>\n",
       "      <td>Mountain View</td>\n",
       "      <td>United States</td>\n",
       "      <td>TOTVS Labs</td>\n",
       "      <td>2016-01-05T12:18:35.000Z</td>\n",
       "      <td>VENDA</td>\n",
       "      <td>Mesa 4</td>\n",
       "      <td>1.0</td>\n",
       "      <td>NaN</td>\n",
       "      <td>4</td>\n",
       "    </tr>\n",
       "  </tbody>\n",
       "</table>\n",
       "</div>"
      ],
      "text/plain": [
       "   complemento.valorTotal           emit.cnpj emit.enderEmit.fone  \\\n",
       "0                   24.90  01.234.567/0001-89      1-650-933-4902   \n",
       "1                   92.53  01.234.567/0001-89      1-650-933-4902   \n",
       "2                   57.86  01.234.567/0001-89      1-650-933-4902   \n",
       "3                   34.97  01.234.567/0001-89      1-650-933-4902   \n",
       "4                   46.23  01.234.567/0001-89      1-650-933-4902   \n",
       "\n",
       "  emit.enderEmit.uf emit.enderEmit.xBairro      emit.enderEmit.xLgr  \\\n",
       "0                CA                         650 Castro St. unit 210   \n",
       "1                CA                         650 Castro St. unit 210   \n",
       "2                CA                         650 Castro St. unit 210   \n",
       "3                CA                         650 Castro St. unit 210   \n",
       "4                CA                         650 Castro St. unit 210   \n",
       "\n",
       "  emit.enderEmit.xMun emit.enderEmit.xPais  emit.xFant  \\\n",
       "0       Mountain View        United States  TOTVS Labs   \n",
       "1       Mountain View        United States  TOTVS Labs   \n",
       "2       Mountain View        United States  TOTVS Labs   \n",
       "3       Mountain View        United States  TOTVS Labs   \n",
       "4       Mountain View        United States  TOTVS Labs   \n",
       "\n",
       "            ide.dhEmi.$date ide.natOp infAdic.infCpl  versaoDocumento  \\\n",
       "0  2016-01-05T12:01:54.000Z     VENDA         Mesa 2              1.0   \n",
       "1  2016-01-05T12:03:52.000Z     VENDA         Mesa 1              1.0   \n",
       "2  2016-01-05T12:16:40.000Z     VENDA         Mesa 5              1.0   \n",
       "3  2016-01-05T12:17:50.000Z     VENDA         Mesa 3              1.0   \n",
       "4  2016-01-05T12:18:35.000Z     VENDA         Mesa 4              1.0   \n",
       "\n",
       "  versaoDocumento.$numberLong  order_id  \n",
       "0                         NaN         0  \n",
       "1                         NaN         1  \n",
       "2                         NaN         2  \n",
       "3                         NaN         3  \n",
       "4                         NaN         4  "
      ]
     },
     "execution_count": 12,
     "metadata": {},
     "output_type": "execute_result"
    }
   ],
   "source": [
    "relevant_json = parsed_json[[col for col in parsed_json.columns if 'total.' not in col]]\n",
    "relevant_json.head()"
   ]
  },
  {
   "cell_type": "markdown",
   "metadata": {},
   "source": [
    "Now, lets spot the features that are redundant."
   ]
  },
  {
   "cell_type": "code",
   "execution_count": 13,
   "metadata": {},
   "outputs": [
    {
     "data": {
      "text/plain": [
       "complemento.valorTotal         1288\n",
       "emit.cnpj                         1\n",
       "emit.enderEmit.fone               1\n",
       "emit.enderEmit.uf                 1\n",
       "emit.enderEmit.xBairro            1\n",
       "emit.enderEmit.xLgr               1\n",
       "emit.enderEmit.xMun               1\n",
       "emit.enderEmit.xPais              1\n",
       "emit.xFant                        1\n",
       "ide.dhEmi.$date                1629\n",
       "ide.natOp                         1\n",
       "infAdic.infCpl                   83\n",
       "versaoDocumento                   1\n",
       "versaoDocumento.$numberLong       1\n",
       "order_id                       1635\n",
       "dtype: int64"
      ]
     },
     "execution_count": 13,
     "metadata": {},
     "output_type": "execute_result"
    }
   ],
   "source": [
    "relevant_json.nunique()"
   ]
  },
  {
   "cell_type": "code",
   "execution_count": 14,
   "metadata": {},
   "outputs": [
    {
     "data": {
      "text/html": [
       "<div>\n",
       "<style>\n",
       "    .dataframe thead tr:only-child th {\n",
       "        text-align: right;\n",
       "    }\n",
       "\n",
       "    .dataframe thead th {\n",
       "        text-align: left;\n",
       "    }\n",
       "\n",
       "    .dataframe tbody tr th {\n",
       "        vertical-align: top;\n",
       "    }\n",
       "</style>\n",
       "<table border=\"1\" class=\"dataframe\">\n",
       "  <thead>\n",
       "    <tr style=\"text-align: right;\">\n",
       "      <th></th>\n",
       "      <th>complemento.valorTotal</th>\n",
       "      <th>ide.dhEmi.$date</th>\n",
       "      <th>infAdic.infCpl</th>\n",
       "    </tr>\n",
       "  </thead>\n",
       "  <tbody>\n",
       "    <tr>\n",
       "      <th>0</th>\n",
       "      <td>24.90</td>\n",
       "      <td>2016-01-05T12:01:54.000Z</td>\n",
       "      <td>Mesa 2</td>\n",
       "    </tr>\n",
       "    <tr>\n",
       "      <th>1</th>\n",
       "      <td>92.53</td>\n",
       "      <td>2016-01-05T12:03:52.000Z</td>\n",
       "      <td>Mesa 1</td>\n",
       "    </tr>\n",
       "    <tr>\n",
       "      <th>2</th>\n",
       "      <td>57.86</td>\n",
       "      <td>2016-01-05T12:16:40.000Z</td>\n",
       "      <td>Mesa 5</td>\n",
       "    </tr>\n",
       "    <tr>\n",
       "      <th>3</th>\n",
       "      <td>34.97</td>\n",
       "      <td>2016-01-05T12:17:50.000Z</td>\n",
       "      <td>Mesa 3</td>\n",
       "    </tr>\n",
       "    <tr>\n",
       "      <th>4</th>\n",
       "      <td>46.23</td>\n",
       "      <td>2016-01-05T12:18:35.000Z</td>\n",
       "      <td>Mesa 4</td>\n",
       "    </tr>\n",
       "  </tbody>\n",
       "</table>\n",
       "</div>"
      ],
      "text/plain": [
       "   complemento.valorTotal           ide.dhEmi.$date infAdic.infCpl\n",
       "0                   24.90  2016-01-05T12:01:54.000Z         Mesa 2\n",
       "1                   92.53  2016-01-05T12:03:52.000Z         Mesa 1\n",
       "2                   57.86  2016-01-05T12:16:40.000Z         Mesa 5\n",
       "3                   34.97  2016-01-05T12:17:50.000Z         Mesa 3\n",
       "4                   46.23  2016-01-05T12:18:35.000Z         Mesa 4"
      ]
     },
     "execution_count": 14,
     "metadata": {},
     "output_type": "execute_result"
    }
   ],
   "source": [
    "relevant_json = relevant_json[relevant_json.nunique()[relevant_json.nunique()!=1].index]\n",
    "\n",
    "relevant_json.drop('order_id',1,inplace=True)\n",
    "\n",
    "relevant_json.head()"
   ]
  },
  {
   "cell_type": "markdown",
   "metadata": {},
   "source": [
    "We also drop the *order_id* column, which is only a reference key we made earlier.\n",
    "\n",
    "Not bad, we went from ~30 cols to just 3 columns, one of which is the target variable itself!\n",
    "\n",
    "Hence, the only features in this json file that could provide any insight are the table on which the client was served, and the date/time or the order.\n",
    "\n",
    "#---------------------------------------------------------------------------------------------------------------------------------------------------------------------------------------------# <br>\n",
    "#---------------------------------------------------------------------------------------------------------------------------------------------------------------------------------------------# <br>\n",
    "\n",
    "\n",
    "For insights, we may take several different approaches.\n",
    "\n",
    "Graphical analysis is always useful, not only its an easy and fast way to visualize the data as a whole, but its the easiest way to present information to non-technical stakeholders.\n",
    "\n",
    "Hence, lets try a few graphs, such as:\n",
    "\n",
    "* time series visualization.\n",
    "\n",
    "* few histogram and distributions of spending per cohort\n",
    "\n",
    "* heatmap out of Pearson Correlation can also be a nice way to present data to stakeholders.\n",
    "\n",
    "* random forest or SGD's feature importance graph "
   ]
  },
  {
   "cell_type": "code",
   "execution_count": 15,
   "metadata": {},
   "outputs": [
    {
     "name": "stdout",
     "output_type": "stream",
     "text": [
      "('min date:', Timestamp('2016-01-05 12:01:54'))\n",
      "('max date:', Timestamp('2016-01-23 14:56:35'))\n"
     ]
    }
   ],
   "source": [
    "relevant_json['ide.dhEmi.$date'] = pd.to_datetime(relevant_json['ide.dhEmi.$date'])\n",
    "\n",
    "print ('min date:', relevant_json['ide.dhEmi.$date'].min())\n",
    "print ('max date:', relevant_json['ide.dhEmi.$date'].max())"
   ]
  },
  {
   "cell_type": "markdown",
   "metadata": {},
   "source": [
    "#### data pre processing\n",
    "\n",
    "first, we convert the date column to a datetime object (previously it was a string) <br>\n",
    "the features we extract out of the datetime are:\n",
    "    \n",
    "    * date \n",
    "    * day of week (0 to 6, 0 being monday) \n",
    "    * day of month \n",
    "    * hour_round (17:55 -> 17) \n",
    "    * hour_float (17:30 -> 17,5)\n",
    "    \n",
    "Since the data is only from a short time interval (from 5th january to 23th january of 2016) we do not make features out of the year/month <br><br>\n",
    "Its also worth noticing that most likely the data from the 5th and from the 23th is incomplete, one can infer that from the timestamps of the min/max values"
   ]
  },
  {
   "cell_type": "code",
   "execution_count": 16,
   "metadata": {
    "collapsed": true
   },
   "outputs": [],
   "source": [
    "relevant_json['date'] = relevant_json['ide.dhEmi.$date'].map(lambda date: date.date())\n",
    "relevant_json['day_of_week'] = relevant_json['ide.dhEmi.$date'].map(lambda date: date.weekday())\n",
    "relevant_json['day_of_month'] = relevant_json['ide.dhEmi.$date'].map(lambda date: date.day)\n",
    "relevant_json['hour_round'] = relevant_json['ide.dhEmi.$date'].map(lambda date: date.hour)\n",
    "relevant_json['hour_float'] = relevant_json['ide.dhEmi.$date'].map(lambda date: date.hour + date.minute/60.0)"
   ]
  },
  {
   "cell_type": "markdown",
   "metadata": {},
   "source": [
    "#### graphical analysis"
   ]
  },
  {
   "cell_type": "code",
   "execution_count": 17,
   "metadata": {},
   "outputs": [
    {
     "data": {
      "image/png": "[encoded data removed]",
      "text/plain": [
       "<matplotlib.figure.Figure at 0x7f076d733890>"
      ]
     },
     "metadata": {},
     "output_type": "display_data"
    }
   ],
   "source": [
    "plt.figure(figsize=(20,5))\n",
    "\n",
    "plt.subplot(1,2,1)\n",
    "\n",
    "plt.plot(relevant_json.groupby(['date'])['complemento.valorTotal'].apply(np.mean))\n",
    "plt.xticks(rotation=90)\n",
    "plt.title('Mean value of order per date')\n",
    "\n",
    "plt.subplot(1,2,2)\n",
    "\n",
    "plt.plot(relevant_json.groupby(['date'])['complemento.valorTotal'].apply(np.sum))\n",
    "plt.xticks(rotation=90)\n",
    "plt.title('Total value of orders per date')\n",
    "\n",
    "plt.show()"
   ]
  },
  {
   "cell_type": "code",
   "execution_count": 18,
   "metadata": {
    "collapsed": true
   },
   "outputs": [],
   "source": [
    "relevant_json['table_number'] = relevant_json['infAdic.infCpl'].map(lambda string: int(string.replace('Mesa','')))"
   ]
  },
  {
   "cell_type": "code",
   "execution_count": 19,
   "metadata": {},
   "outputs": [
    {
     "data": {
      "image/png": "[encoded data removed]",
      "text/plain": [
       "<matplotlib.figure.Figure at 0x7f076cacb590>"
      ]
     },
     "metadata": {},
     "output_type": "display_data"
    }
   ],
   "source": [
    "plt.figure(figsize=(20,5))\n",
    "\n",
    "temp = relevant_json.groupby(['table_number'])['complemento.valorTotal'].apply(len)\n",
    "X = temp.index\n",
    "y = temp.values\n",
    "\n",
    "plt.subplot(1,2,1)\n",
    "plt.bar(X,y)\n",
    "plt.title('total number of orders by table number')\n",
    "\n",
    "temp = relevant_json.groupby(['table_number'])['complemento.valorTotal'].apply(np.mean)\n",
    "X = temp.index\n",
    "y = temp.values\n",
    "\n",
    "plt.subplot(1,2,2)\n",
    "plt.bar(X,y)\n",
    "plt.title('mean value of orders by table number')\n",
    "\n",
    "plt.show()"
   ]
  },
  {
   "cell_type": "code",
   "execution_count": 20,
   "metadata": {},
   "outputs": [],
   "source": [
    "heatmap_df_tables = relevant_json[['table_number','complemento.valorTotal']]\n",
    "heatmap_df_tables = pd.concat([heatmap_df_tables.drop('table_number',1), pd.get_dummies(heatmap_df_tables['table_number'],prefix='table_number')],1)\n",
    "\n",
    "heatmap_df_dates = relevant_json[['complemento.valorTotal','day_of_week','day_of_month','hour_float','hour_round']]\n",
    "heatmap_df_dates = pd.concat([heatmap_df_dates.drop('day_of_week',1), pd.get_dummies(heatmap_df_dates['day_of_week'],prefix='day_of_week')],1)\n",
    "heatmap_df_dates = pd.concat([heatmap_df_dates.drop('hour_round',1), pd.get_dummies(heatmap_df_dates['hour_round'],prefix='hour_round')],1)"
   ]
  },
  {
   "cell_type": "code",
   "execution_count": 21,
   "metadata": {},
   "outputs": [
    {
     "data": {
      "image/png": "[encoded data removed]",
      "text/plain": [
       "<matplotlib.figure.Figure at 0x7f076d036450>"
      ]
     },
     "metadata": {},
     "output_type": "display_data"
    }
   ],
   "source": [
    "plt.figure(figsize=(20,5))\n",
    "\n",
    "plt.subplot(1,2,1)\n",
    "\n",
    "sns.heatmap(heatmap_df_dates.corr(), cmap='RdBu_r')\n",
    "plt.title('heatmap date features')\n",
    "\n",
    "plt.subplot(1,2,2)\n",
    "\n",
    "sns.heatmap(heatmap_df_tables.corr(), cmap='RdBu_r')\n",
    "plt.title('heatmap table features')\n",
    "\n",
    "plt.show()"
   ]
  },
  {
   "cell_type": "code",
   "execution_count": 22,
   "metadata": {},
   "outputs": [
    {
     "data": {
      "text/plain": [
       "complemento.valorTotal    1.000000\n",
       "table_number_11           0.097486\n",
       "table_number_13           0.086867\n",
       "table_number_7            0.062472\n",
       "table_number_98           0.051189\n",
       "Name: complemento.valorTotal, dtype: float64"
      ]
     },
     "execution_count": 22,
     "metadata": {},
     "output_type": "execute_result"
    }
   ],
   "source": [
    "heatmap_df_tables.corr()['complemento.valorTotal'].sort_values(ascending=False)[:5]"
   ]
  },
  {
   "cell_type": "code",
   "execution_count": 23,
   "metadata": {},
   "outputs": [
    {
     "data": {
      "text/plain": [
       "table_number_38   -0.049412\n",
       "table_number_73   -0.042669\n",
       "table_number_87   -0.032838\n",
       "table_number_82   -0.032444\n",
       "table_number_55   -0.032323\n",
       "Name: complemento.valorTotal, dtype: float64"
      ]
     },
     "execution_count": 23,
     "metadata": {},
     "output_type": "execute_result"
    }
   ],
   "source": [
    "heatmap_df_tables.corr()['complemento.valorTotal'].sort_values(ascending=True)[:5]"
   ]
  },
  {
   "cell_type": "code",
   "execution_count": 24,
   "metadata": {},
   "outputs": [
    {
     "data": {
      "image/png": "[encoded data removed]",
      "text/plain": [
       "<matplotlib.figure.Figure at 0x7f076cb36bd0>"
      ]
     },
     "metadata": {},
     "output_type": "display_data"
    }
   ],
   "source": [
    "X = pd.concat([heatmap_df_dates.drop('complemento.valorTotal',1),heatmap_df_tables.drop('complemento.valorTotal',1)],1)\n",
    "y = heatmap_df_dates['complemento.valorTotal']\n",
    "\n",
    "simple_model = lgb.LGBMRegressor(learning_rate=0.01, n_estimators=300)\n",
    "simple_model.fit(X,y)\n",
    "\n",
    "ax = lgb.plot_importance(simple_model, max_num_features=10)\n",
    "plt.show()"
   ]
  },
  {
   "cell_type": "markdown",
   "metadata": {},
   "source": [
    "### Insights and conclusions from part 2\n",
    "\n",
    "* sales behavior (amount and total value) seem to be periodic. A longer period, or to cohort by weekdays, might bring more insights.\n",
    "* some tables seem to be more or less popular than avg (amount of orders from table), while some tables seem to be more \"efficient\" (avg value of order) - however, we lack information, its possible that some of those tables were made available, or shut down, during the data collection period. Other features (not provided) could help explain those behaviors, such as table size, or table location.\n",
    "* evening (21:00-23:00) orders seem to be much more profitable (avg value per order), maybe the establishment should try to promote events during those times (happy hours, game nights, etc) \n",
    "* feature importance identifies hour of service as the most important feature for the prediction of the order value."
   ]
  },
  {
   "cell_type": "markdown",
   "metadata": {},
   "source": [
    "### 3. Calculate a sales forecast for the next week.\n",
    "\n",
    "There are many different approaches to calculate a time series prediction. <br>\n",
    "\n",
    "Most common methods are statistical & numerical approaches. <br>\n",
    "\n",
    "A simple example of a simple statistical approach would be an avg of the last X days. <br>\n",
    "A simple example of a numerical approach wld be fitting a model, such as the one did above.\n",
    "\n",
    "A more in depth solution would be to try a set of different methods, such as those documented in the m4 competition (a famous time series prediction competition, which usually debuts new methods) and to use that which performs the best in a temporal cross validation. Usually, an enseemble of different methods is the best option.<br>\n",
    "\n",
    "Alternatively, fbook has provided an open source library that they use for time series prediction, *fbprophet*, from its github the description is:<br> \"*Prophet is a procedure for forecasting time series data. It is based on an additive model where non-linear trends are fit with yearly and weekly seasonality, plus holidays. It works best with daily periodicity data with at least one year of historical data. Prophet is robust to missing data, shifts in the trend, and large outliers.*\"\n",
    "\n",
    "For this case study, we will make a simple model, and compare how it performs to a simple avg prediction, however, its worth noticing, that the *extremely* short time interval we have to work with (about 2.5 weeks) stops us from doing an in depth approach."
   ]
  },
  {
   "cell_type": "code",
   "execution_count": 25,
   "metadata": {
    "scrolled": true
   },
   "outputs": [],
   "source": [
    "forecast_df = relevant_json[['complemento.valorTotal','date']].groupby('date').apply(sum).reset_index()\n",
    "\n",
    "forecast_df['dow'] = forecast_df['date'].map(lambda date: date.weekday())\n",
    "forecast_df['dom'] = forecast_df['date'].map(lambda date: date.day)"
   ]
  },
  {
   "cell_type": "code",
   "execution_count": 26,
   "metadata": {},
   "outputs": [],
   "source": [
    "## since we are doing a forecast for next week, for our validation, \n",
    "## lets use one week, which leaves us with about 10 days worth of trainning date\n",
    "\n",
    "train = forecast_df[:-7] \n",
    "validation = forecast_df[-7:]"
   ]
  },
  {
   "cell_type": "code",
   "execution_count": 27,
   "metadata": {
    "collapsed": true
   },
   "outputs": [],
   "source": [
    "train_X = train.drop(['complemento.valorTotal','date'],1)\n",
    "train_y = train['complemento.valorTotal']\n",
    "\n",
    "valid_X = validation.drop(['complemento.valorTotal','date'],1)\n",
    "valid_y = validation['complemento.valorTotal']"
   ]
  },
  {
   "cell_type": "code",
   "execution_count": 28,
   "metadata": {},
   "outputs": [],
   "source": [
    "clf = lgb.LGBMRegressor(learning_rate=0.01, min_data=1, min_data_in_bin=1)\n",
    "clf.fit(train_X,train_y)\n",
    "\n",
    "preds = clf.predict(valid_X)"
   ]
  },
  {
   "cell_type": "code",
   "execution_count": 29,
   "metadata": {},
   "outputs": [
    {
     "data": {
      "image/png": "[encoded data removed]",
      "text/plain": [
       "<matplotlib.figure.Figure at 0x7f076c861c50>"
      ]
     },
     "metadata": {},
     "output_type": "display_data"
    }
   ],
   "source": [
    "X1 = forecast_df['date'][:-7]\n",
    "y1 = train_y\n",
    "\n",
    "X2 = forecast_df['date'][-7:]\n",
    "y2 = valid_y\n",
    "y3 = preds\n",
    "y4 = np.ones(7)*np.mean(train_y)\n",
    "\n",
    "plt.plot(X1, y1, color='navy')\n",
    "plt.plot(X2, y2, color='green')\n",
    "plt.plot(X2, y3, color='red')\n",
    "plt.plot(X2, y4, color='blue')\n",
    "\n",
    "plt.title('model performance')\n",
    "plt.legend(['train','true','prediction','simple avg'])\n",
    "plt.xticks(rotation=90)\n",
    "\n",
    "plt.show()"
   ]
  },
  {
   "cell_type": "code",
   "execution_count": 30,
   "metadata": {},
   "outputs": [
    {
     "name": "stdout",
     "output_type": "stream",
     "text": [
      "model r2: 0.334\n",
      "simple avg r2: -0.013\n"
     ]
    }
   ],
   "source": [
    "print ('model r2: {}'.format(np.round(metrics.r2_score(valid_y, preds),3)))\n",
    "print ('simple avg r2: {}'.format(np.round(metrics.r2_score(valid_y, np.ones(7)*np.mean(train_y)),3)))"
   ]
  },
  {
   "cell_type": "markdown",
   "metadata": {},
   "source": [
    "#### sales forecast\n",
    "\n",
    "Now that we have shown that even with little data a simple SGD model can give a decent result, <br>\n",
    "Lets predict the sales forecast for the next week"
   ]
  },
  {
   "cell_type": "code",
   "execution_count": 31,
   "metadata": {},
   "outputs": [
    {
     "data": {
      "text/html": [
       "<div>\n",
       "<style>\n",
       "    .dataframe thead tr:only-child th {\n",
       "        text-align: right;\n",
       "    }\n",
       "\n",
       "    .dataframe thead th {\n",
       "        text-align: left;\n",
       "    }\n",
       "\n",
       "    .dataframe tbody tr th {\n",
       "        vertical-align: top;\n",
       "    }\n",
       "</style>\n",
       "<table border=\"1\" class=\"dataframe\">\n",
       "  <thead>\n",
       "    <tr style=\"text-align: right;\">\n",
       "      <th></th>\n",
       "      <th>date</th>\n",
       "      <th>complemento.valorTotal</th>\n",
       "      <th>dow</th>\n",
       "      <th>dom</th>\n",
       "    </tr>\n",
       "  </thead>\n",
       "  <tbody>\n",
       "    <tr>\n",
       "      <th>0</th>\n",
       "      <td>2016-01-25</td>\n",
       "      <td>NaN</td>\n",
       "      <td>0</td>\n",
       "      <td>25</td>\n",
       "    </tr>\n",
       "    <tr>\n",
       "      <th>1</th>\n",
       "      <td>2016-01-26</td>\n",
       "      <td>NaN</td>\n",
       "      <td>1</td>\n",
       "      <td>26</td>\n",
       "    </tr>\n",
       "    <tr>\n",
       "      <th>2</th>\n",
       "      <td>2016-01-27</td>\n",
       "      <td>NaN</td>\n",
       "      <td>2</td>\n",
       "      <td>27</td>\n",
       "    </tr>\n",
       "    <tr>\n",
       "      <th>3</th>\n",
       "      <td>2016-01-28</td>\n",
       "      <td>NaN</td>\n",
       "      <td>3</td>\n",
       "      <td>28</td>\n",
       "    </tr>\n",
       "    <tr>\n",
       "      <th>4</th>\n",
       "      <td>2016-01-29</td>\n",
       "      <td>NaN</td>\n",
       "      <td>4</td>\n",
       "      <td>29</td>\n",
       "    </tr>\n",
       "    <tr>\n",
       "      <th>5</th>\n",
       "      <td>2016-01-30</td>\n",
       "      <td>NaN</td>\n",
       "      <td>5</td>\n",
       "      <td>30</td>\n",
       "    </tr>\n",
       "  </tbody>\n",
       "</table>\n",
       "</div>"
      ],
      "text/plain": [
       "         date complemento.valorTotal  dow  dom\n",
       "0  2016-01-25                    NaN    0   25\n",
       "1  2016-01-26                    NaN    1   26\n",
       "2  2016-01-27                    NaN    2   27\n",
       "3  2016-01-28                    NaN    3   28\n",
       "4  2016-01-29                    NaN    4   29\n",
       "5  2016-01-30                    NaN    5   30"
      ]
     },
     "execution_count": 31,
     "metadata": {},
     "output_type": "execute_result"
    }
   ],
   "source": [
    "## make dataframe for next week, noticing we should leave sunday out, as the establishment doesnt open on sundays\n",
    "\n",
    "next_week = pd.DataFrame([], columns=forecast_df.columns)\n",
    "\n",
    "dates = np.arange(pd.to_datetime('2016-01-25').date(),pd.to_datetime('2016-01-31').date())\n",
    "\n",
    "for date in dates:\n",
    "    \n",
    "    next_week.loc[len(next_week)] = [pd.to_datetime(date).date(), np.nan, pd.to_datetime(date).date().weekday(), pd.to_datetime(date).date().day]\n",
    "    \n",
    "next_week['dow'] = next_week['dow'].map(int)\n",
    "next_week['dom'] = next_week['dom'].map(int)\n",
    "\n",
    "next_week"
   ]
  },
  {
   "cell_type": "code",
   "execution_count": 32,
   "metadata": {
    "collapsed": true
   },
   "outputs": [],
   "source": [
    "train_X = forecast_df.drop(['complemento.valorTotal','date'],1)\n",
    "train_y = forecast_df['complemento.valorTotal']\n",
    "\n",
    "test_X = next_week.drop(['complemento.valorTotal','date'],1)"
   ]
  },
  {
   "cell_type": "code",
   "execution_count": 33,
   "metadata": {},
   "outputs": [
    {
     "name": "stdout",
     "output_type": "stream",
     "text": [
      "('predictions:', array([ 5799.69,  6139.48,  7298.64,  6018.72,  3936.19,  4460.35]))\n"
     ]
    },
    {
     "data": {
      "text/html": [
       "<div>\n",
       "<style>\n",
       "    .dataframe thead tr:only-child th {\n",
       "        text-align: right;\n",
       "    }\n",
       "\n",
       "    .dataframe thead th {\n",
       "        text-align: left;\n",
       "    }\n",
       "\n",
       "    .dataframe tbody tr th {\n",
       "        vertical-align: top;\n",
       "    }\n",
       "</style>\n",
       "<table border=\"1\" class=\"dataframe\">\n",
       "  <thead>\n",
       "    <tr style=\"text-align: right;\">\n",
       "      <th></th>\n",
       "      <th>date</th>\n",
       "      <th>complemento.valorTotal</th>\n",
       "    </tr>\n",
       "  </thead>\n",
       "  <tbody>\n",
       "    <tr>\n",
       "      <th>0</th>\n",
       "      <td>2016-01-25</td>\n",
       "      <td>5799.69</td>\n",
       "    </tr>\n",
       "    <tr>\n",
       "      <th>1</th>\n",
       "      <td>2016-01-26</td>\n",
       "      <td>6139.48</td>\n",
       "    </tr>\n",
       "    <tr>\n",
       "      <th>2</th>\n",
       "      <td>2016-01-27</td>\n",
       "      <td>7298.64</td>\n",
       "    </tr>\n",
       "    <tr>\n",
       "      <th>3</th>\n",
       "      <td>2016-01-28</td>\n",
       "      <td>6018.72</td>\n",
       "    </tr>\n",
       "    <tr>\n",
       "      <th>4</th>\n",
       "      <td>2016-01-29</td>\n",
       "      <td>3936.19</td>\n",
       "    </tr>\n",
       "    <tr>\n",
       "      <th>5</th>\n",
       "      <td>2016-01-30</td>\n",
       "      <td>4460.35</td>\n",
       "    </tr>\n",
       "  </tbody>\n",
       "</table>\n",
       "</div>"
      ],
      "text/plain": [
       "         date  complemento.valorTotal\n",
       "0  2016-01-25                 5799.69\n",
       "1  2016-01-26                 6139.48\n",
       "2  2016-01-27                 7298.64\n",
       "3  2016-01-28                 6018.72\n",
       "4  2016-01-29                 3936.19\n",
       "5  2016-01-30                 4460.35"
      ]
     },
     "execution_count": 33,
     "metadata": {},
     "output_type": "execute_result"
    }
   ],
   "source": [
    "clf = lgb.LGBMRegressor(learning_rate=0.01, min_data=1, min_data_in_bin=1)\n",
    "clf.fit(train_X,train_y)\n",
    "\n",
    "preds = np.round(clf.predict(test_X),2)\n",
    "print ('predictions:', preds)\n",
    "\n",
    "next_week['complemento.valorTotal'] = preds\n",
    "\n",
    "next_week[['date','complemento.valorTotal']]"
   ]
  },
  {
   "cell_type": "code",
   "execution_count": 34,
   "metadata": {},
   "outputs": [
    {
     "data": {
      "image/png": "[encoded data removed]",
      "text/plain": [
       "<matplotlib.figure.Figure at 0x7f076d66b590>"
      ]
     },
     "metadata": {},
     "output_type": "display_data"
    }
   ],
   "source": [
    "X1 = forecast_df['date']\n",
    "y1 = forecast_df['complemento.valorTotal']\n",
    "\n",
    "X2 = dates\n",
    "y2 = preds\n",
    "\n",
    "plt.plot(X1, y1, color='navy')\n",
    "plt.plot(X2, y2, color='red')\n",
    "\n",
    "plt.title('model prediction')\n",
    "plt.legend(['train data','next week prediction'])\n",
    "plt.xticks(rotation=90)\n",
    "\n",
    "plt.show()"
   ]
  }
 ],
 "metadata": {
  "kernelspec": {
   "display_name": "Python 2",
   "language": "python",
   "name": "python2"
  },
  "language_info": {
   "codemirror_mode": {
    "name": "ipython",
    "version": 2
   },
   "file_extension": ".py",
   "mimetype": "text/x-python",
   "name": "python",
   "nbconvert_exporter": "python",
   "pygments_lexer": "ipython2",
   "version": "2.7.14"
  }
 },
 "nbformat": 4,
 "nbformat_minor": 2
}
